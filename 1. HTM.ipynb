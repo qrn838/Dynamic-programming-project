{
 "cells": [
  {
   "cell_type": "code",
   "execution_count": 2,
   "metadata": {},
   "outputs": [
    {
     "name": "stdout",
     "output_type": "stream",
     "text": [
      "The autoreload extension is already loaded. To reload it, use:\n",
      "  %reload_ext autoreload\n"
     ]
    }
   ],
   "source": [
    "import numpy as np\n",
    "import matplotlib.pyplot as plt\n",
    "\n",
    "\n",
    "%load_ext autoreload\n",
    "%autoreload 2\n",
    "\n",
    "from hand_to_mouth import *\n",
    "\n",
    "# %pip install EconModel\n",
    "from Model import ReferenceDependenceClass\n",
    "model = ReferenceDependenceClass()"
   ]
  },
  {
   "cell_type": "code",
   "execution_count": 18,
   "metadata": {},
   "outputs": [
    {
     "ename": "NameError",
     "evalue": "name 'unemployment_ss_ConSav' is not defined",
     "output_type": "error",
     "traceback": [
      "\u001b[1;31m---------------------------------------------------------------------------\u001b[0m",
      "\u001b[1;31mNameError\u001b[0m                                 Traceback (most recent call last)",
      "Cell \u001b[1;32mIn[18], line 2\u001b[0m\n\u001b[0;32m      1\u001b[0m value_function_employment_HTM(model\u001b[38;5;241m.\u001b[39mpar, model\u001b[38;5;241m.\u001b[39mpar\u001b[38;5;241m.\u001b[39mw, \u001b[38;5;241m-\u001b[39m\u001b[38;5;241m1\u001b[39m )\n\u001b[1;32m----> 2\u001b[0m V_u, s \u001b[38;5;241m=\u001b[39m \u001b[43munemployment_ss_ConSav\u001b[49m(model\u001b[38;5;241m.\u001b[39mpar, \u001b[38;5;241m-\u001b[39m\u001b[38;5;241m1\u001b[39m, \u001b[38;5;241m0\u001b[39m, \u001b[38;5;241m0\u001b[39m)\n\u001b[0;32m      3\u001b[0m \u001b[38;5;28mprint\u001b[39m(V_u, s)\n",
      "\u001b[1;31mNameError\u001b[0m: name 'unemployment_ss_ConSav' is not defined"
     ]
    }
   ],
   "source": [
    "value_function_employment_HTM(model.par, model.par.w, -1 )\n",
    "\n"
   ]
  },
  {
   "cell_type": "code",
   "execution_count": 4,
   "metadata": {},
   "outputs": [
    {
     "data": {
      "text/plain": [
       "(0.05113871901538958, -252.83533736433972)"
      ]
     },
     "execution_count": 4,
     "metadata": {},
     "output_type": "execute_result"
    }
   ],
   "source": [
    "unemployed_ss_HTM(model.par,1)"
   ]
  },
  {
   "cell_type": "code",
   "execution_count": 5,
   "metadata": {},
   "outputs": [
    {
     "name": "stdout",
     "output_type": "stream",
     "text": [
      "(1, 44)\n"
     ]
    }
   ],
   "source": [
    "search_effort = solve_search_effort_HTM(model.par)\n",
    "print(np.shape(search_effort))\n"
   ]
  },
  {
   "cell_type": "code",
   "execution_count": 8,
   "metadata": {},
   "outputs": [
    {
     "ename": "IndexError",
     "evalue": "index 1 is out of bounds for axis 0 with size 1",
     "output_type": "error",
     "traceback": [
      "\u001b[1;31m---------------------------------------------------------------------------\u001b[0m",
      "\u001b[1;31mIndexError\u001b[0m                                Traceback (most recent call last)",
      "Cell \u001b[1;32mIn[8], line 3\u001b[0m\n\u001b[0;32m      1\u001b[0m time \u001b[38;5;241m=\u001b[39m np\u001b[38;5;241m.\u001b[39mlinspace(\u001b[38;5;241m0\u001b[39m, model\u001b[38;5;241m.\u001b[39mpar\u001b[38;5;241m.\u001b[39mT, model\u001b[38;5;241m.\u001b[39mpar\u001b[38;5;241m.\u001b[39mT)\n\u001b[0;32m      2\u001b[0m plt\u001b[38;5;241m.\u001b[39mplot(time, search_effort[\u001b[38;5;241m0\u001b[39m,:], label \u001b[38;5;241m=\u001b[39m \u001b[38;5;124m'\u001b[39m\u001b[38;5;124mlow cost\u001b[39m\u001b[38;5;124m'\u001b[39m) \n\u001b[1;32m----> 3\u001b[0m plt\u001b[38;5;241m.\u001b[39mplot(time, search_effort[\u001b[38;5;241m1\u001b[39m,:], label \u001b[38;5;241m=\u001b[39m \u001b[38;5;124m'\u001b[39m\u001b[38;5;124mmedium cost\u001b[39m\u001b[38;5;124m'\u001b[39m) \n\u001b[0;32m      4\u001b[0m \u001b[38;5;66;03m#plt.plot(time, search_effort[2,:], label = 'high' ) \u001b[39;00m\n\u001b[0;32m      5\u001b[0m plt\u001b[38;5;241m.\u001b[39mxlabel(\u001b[38;5;124m'\u001b[39m\u001b[38;5;124mTime\u001b[39m\u001b[38;5;124m'\u001b[39m)\n",
      "\u001b[1;31mIndexError\u001b[0m: index 1 is out of bounds for axis 0 with size 1"
     ]
    },
    {
     "data": {
      "image/png": "[encoded data removed]",
      "text/plain": [
       "<Figure size 640x480 with 1 Axes>"
      ]
     },
     "metadata": {},
     "output_type": "display_data"
    }
   ],
   "source": [
    "\n",
    "time = np.linspace(0, model.par.T, model.par.T)\n",
    "plt.plot(time, search_effort[0,:], label = 'low cost') \n",
    "plt.plot(time, search_effort[1,:], label = 'medium cost') \n",
    "#plt.plot(time, search_effort[2,:], label = 'high' ) \n",
    "plt.xlabel('Time')\n",
    "plt.ylabel('Search Effort')\n",
    "plt.title('Search Effort over Time')\n",
    "plt.grid(True)\n",
    "plt.legend()\n",
    "plt.show()\n"
   ]
  },
  {
   "cell_type": "code",
   "execution_count": 9,
   "metadata": {},
   "outputs": [
    {
     "ename": "AttributeError",
     "evalue": "'ReferenceDependenceClass' object has no attribute 'solve'",
     "output_type": "error",
     "traceback": [
      "\u001b[1;31m---------------------------------------------------------------------------\u001b[0m",
      "\u001b[1;31mAttributeError\u001b[0m                            Traceback (most recent call last)",
      "Cell \u001b[1;32mIn[9], line 1\u001b[0m\n\u001b[1;32m----> 1\u001b[0m sim \u001b[38;5;241m=\u001b[39m model\u001b[38;5;241m.\u001b[39msolve()\n\u001b[0;32m      2\u001b[0m time \u001b[38;5;241m=\u001b[39m np\u001b[38;5;241m.\u001b[39mlinspace(\u001b[38;5;241m0\u001b[39m, model\u001b[38;5;241m.\u001b[39mpar\u001b[38;5;241m.\u001b[39mT_sim, model\u001b[38;5;241m.\u001b[39mpar\u001b[38;5;241m.\u001b[39mT_sim)\n\u001b[0;32m      3\u001b[0m plt\u001b[38;5;241m.\u001b[39mplot(time, sim) \n",
      "\u001b[1;31mAttributeError\u001b[0m: 'ReferenceDependenceClass' object has no attribute 'solve'"
     ]
    }
   ],
   "source": [
    "sim = model.solve()\n",
    "time = np.linspace(0, model.par.T_sim, model.par.T_sim)\n",
    "plt.plot(time, sim) \n",
    "plt.xlabel('Time')\n",
    "plt.ylabel('Search Effort')\n",
    "plt.title('Search Effort over Time')\n",
    "plt.grid(True)\n",
    "plt.legend()\n",
    "plt.show()\n",
    "\n",
    "# S: Vi får ikke det rigtige når vi indsætter de rigtige parametre.\n"
   ]
  },
  {
   "cell_type": "code",
   "execution_count": 10,
   "metadata": {},
   "outputs": [
    {
     "ename": "AttributeError",
     "evalue": "'ReferenceDependenceClass' object has no attribute 'solve'",
     "output_type": "error",
     "traceback": [
      "\u001b[1;31m---------------------------------------------------------------------------\u001b[0m",
      "\u001b[1;31mAttributeError\u001b[0m                            Traceback (most recent call last)",
      "Cell \u001b[1;32mIn[10], line 5\u001b[0m\n\u001b[0;32m      2\u001b[0m model\u001b[38;5;241m.\u001b[39mpar\u001b[38;5;241m.\u001b[39mb2 \u001b[38;5;241m=\u001b[39m \u001b[38;5;241m171.0\u001b[39m\u001b[38;5;241m/\u001b[39m\u001b[38;5;241m675.0\u001b[39m      \u001b[38;5;66;03m# Value after reform\u001b[39;00m\n\u001b[0;32m      4\u001b[0m model\u001b[38;5;241m.\u001b[39mallocate()\n\u001b[1;32m----> 5\u001b[0m s_forecast \u001b[38;5;241m=\u001b[39m model\u001b[38;5;241m.\u001b[39msolve()\n\u001b[0;32m      7\u001b[0m \u001b[38;5;66;03m# sim = sim_search_effort(model.par)\u001b[39;00m\n\u001b[0;32m      8\u001b[0m time \u001b[38;5;241m=\u001b[39m np\u001b[38;5;241m.\u001b[39mlinspace(\u001b[38;5;241m0\u001b[39m, model\u001b[38;5;241m.\u001b[39mpar\u001b[38;5;241m.\u001b[39mT_sim, model\u001b[38;5;241m.\u001b[39mpar\u001b[38;5;241m.\u001b[39mT_sim)\n",
      "\u001b[1;31mAttributeError\u001b[0m: 'ReferenceDependenceClass' object has no attribute 'solve'"
     ]
    }
   ],
   "source": [
    "model.par.b1 = 342.0/675.0      # Value after reform\n",
    "model.par.b2 = 171.0/675.0      # Value after reform\n",
    "\n",
    "model.allocate()\n",
    "s_forecast = model.solve()\n",
    "\n",
    "# sim = sim_search_effort(model.par)\n",
    "time = np.linspace(0, model.par.T_sim, model.par.T_sim)\n",
    "plt.plot(time, s_forecast, ) \n",
    "plt.xlabel('Time')\n",
    "plt.ylabel('Search Effort')\n",
    "plt.title('Search Effort over Time')\n",
    "plt.grid(True)\n",
    "#y axis limits\n",
    "#plt.ylim(0.0, 0.08)\n",
    "plt.legend()\n",
    "plt.show()\n"
   ]
  }
 ],
 "metadata": {
  "kernelspec": {
   "display_name": "base",
   "language": "python",
   "name": "python3"
  },
  "language_info": {
   "codemirror_mode": {
    "name": "ipython",
    "version": 3
   },
   "file_extension": ".py",
   "mimetype": "text/x-python",
   "name": "python",
   "nbconvert_exporter": "python",
   "pygments_lexer": "ipython3",
   "version": "3.11.5"
  }
 },
 "nbformat": 4,
 "nbformat_minor": 2
}
