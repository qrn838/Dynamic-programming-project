{
 "cells": [
  {
   "cell_type": "code",
   "execution_count": null,
   "metadata": {},
   "outputs": [],
   "source": [
    "Hand-to-mouth consumere har ikke noget kink i deres utilityfunction fordi deres consumtion altid vil være større end deres reference point.\n",
    "\n",
    "Steps:\n",
    "Definer sidste periode som T1 + T2 + T3 + N + 1\n",
    "V^E_{t+1} er kendt for alle r\n",
    "V^U_{t+1} kan regnes tilbage fra SS i unemployment (den er i hvert fald kendt)"
   ]
  }
 ],
 "metadata": {
  "language_info": {
   "name": "python"
  }
 },
 "nbformat": 4,
 "nbformat_minor": 2
}
